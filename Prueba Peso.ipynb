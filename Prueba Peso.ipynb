{
 "cells": [
  {
   "cell_type": "code",
   "execution_count": 8,
   "id": "419c8d1d-8e82-457d-a617-90ee77d149bc",
   "metadata": {},
   "outputs": [],
   "source": [
    "from datetime import datetime, date\n",
    "import numpy as np\n",
    "import pandas as pd"
   ]
  },
  {
   "cell_type": "code",
   "execution_count": 9,
   "id": "de3c6946",
   "metadata": {},
   "outputs": [
    {
     "name": "stdout",
     "output_type": "stream",
     "text": [
      "añado mensaje nuevo\n"
     ]
    }
   ],
   "source": [
    "print (\"añado mensaje nuevo\")"
   ]
  },
  {
   "cell_type": "code",
   "execution_count": 2,
   "id": "fa618950-1c2c-434e-8b4e-30c6327011df",
   "metadata": {},
   "outputs": [],
   "source": [
    "def weight_history_kg(weight_history_kg_input):\n",
    "    if weight_history_kg_input is Unknown:\n",
    "        return Unknown\n",
    "    elif not converts_to_float(weight_history_kg_input):\n",
    "        return Unknown\n",
    "    elif float(weight_history_kg_input) < 30:\n",
    "        return Unknown\n",
    "    elif float(weight_history_kg_input) >= 200:\n",
    "        return Unknown\n",
    "    elif (not weight_history_kg_input is Unknown) and (not weight_history_kg_input is Unknown) and (weight_record_date < current_date(minus_days=30)):\n",
    "        return Unknown\n",
    "    else:\n",
    "        return float(weight_kg_input)\n",
    "#Que pasa si recibe un valor de la lista invalido?\n"
   ]
  },
  {
   "cell_type": "code",
   "execution_count": 3,
   "id": "89c7edcf-77a7-41ec-97f0-af73cec3c066",
   "metadata": {},
   "outputs": [
    {
     "name": "stdout",
     "output_type": "stream",
     "text": [
      "{'weight': 122, 'date': datetime.datetime(2016, 9, 26, 0, 0)}\n"
     ]
    }
   ],
   "source": [
    "weight_history_kg_input = {}\n",
    "weight_history_kg_input[\"weight\"] = 122\n",
    "weight_history_kg_input[\"date\"] = datetime (2016,9,26)\n",
    "print (weight_history_kg_input)"
   ]
  },
  {
   "cell_type": "code",
   "execution_count": 4,
   "id": "0e821547-6509-4106-8e50-2780504e297b",
   "metadata": {},
   "outputs": [
    {
     "name": "stdout",
     "output_type": "stream",
     "text": [
      "[('weight', 122), ('date', datetime.datetime(2016, 9, 26, 0, 0))]\n"
     ]
    }
   ],
   "source": [
    "list = [(k, v) for k, v in weight_history_kg_input.items()]\n",
    "print (list)\n"
   ]
  },
  {
   "cell_type": "code",
   "execution_count": 5,
   "id": "7fadf92f-8523-4d8c-bee8-d681b0dbfb7d",
   "metadata": {},
   "outputs": [
    {
     "name": "stdout",
     "output_type": "stream",
     "text": [
      "True\n"
     ]
    },
    {
     "data": {
      "text/plain": [
       "False"
      ]
     },
     "execution_count": 5,
     "metadata": {},
     "output_type": "execute_result"
    }
   ],
   "source": [
    "if 80 < 85.5:\n",
    "    print(\"True\")\n",
    "else: \n",
    "    print (\"False\")\n",
    "\n",
    "def peso(peso_actual,peso_base):\n",
    "    if peso_base < peso_actual*0.95:\n",
    "        return 'weight_loss_problem'\n",
    "    else:\n",
    "        return False\n",
    "peso(80,90)\n"
   ]
  },
  {
   "cell_type": "code",
   "execution_count": null,
   "id": "15cb6a75",
   "metadata": {},
   "outputs": [],
   "source": []
  },
  {
   "cell_type": "code",
   "execution_count": null,
   "id": "b4925d34",
   "metadata": {},
   "outputs": [],
   "source": []
  }
 ],
 "metadata": {
  "kernelspec": {
   "display_name": "Python 3",
   "language": "python",
   "name": "python3"
  },
  "language_info": {
   "codemirror_mode": {
    "name": "ipython",
    "version": 3
   },
   "file_extension": ".py",
   "mimetype": "text/x-python",
   "name": "python",
   "nbconvert_exporter": "python",
   "pygments_lexer": "ipython3",
   "version": "3.8.8"
  }
 },
 "nbformat": 4,
 "nbformat_minor": 5
}
